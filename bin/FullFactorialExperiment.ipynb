{
 "cells": [
  {
   "cell_type": "markdown",
   "metadata": {},
   "source": [
    "# Регрессионный анализ в полном факторном эксперименте (ПФЭ 2³)\n",
    "\n",
    "## Задача\n",
    "Исследуем влияние трёх факторов на **предел текучести стали** (МПа):\n",
    "- $ X_1 $: содержание углерода (0.1% – 0.4%)\n",
    "- $ X_2 $: толщина материала (1.0 мм – 2.0 мм)\n",
    "- $ X_3 $: угол относительно направления проката (0° – 90°)\n",
    "\n",
    "Проведён **ПФЭ 2³** (8 опытов), каждый опыт повторён **3 раза**.\n",
    "\n",
    "Модель:  \n",
    "$$\n",
    "\\hat{y} = b_0 + b_1 x_1 + b_2 x_2 + b_3 x_3\n",
    "$$\n",
    "\n",
    "Все расчёты — вручную, с проверкой:\n",
    "- Однородности дисперсий (критерий Кохрена)\n",
    "- Значимости коэффициентов (критерий Стьюдента)\n",
    "- Адекватности модели (критерий Фишера)"
   ]
  },
  {
   "cell_type": "code",
   "execution_count": null,
   "metadata": {},
   "outputs": [],
   "source": [
    "import numpy as np\n",
    "from itertools import product\n",
    "\n",
    "# Настройки отображения\n",
    "np.set_printoptions(precision=4, suppress=True)"
   ]
  },
  {
   "cell_type": "markdown",
   "metadata": {},
   "source": [
    "## 1. Матрица планирования (кодированные факторы)\n",
    "\n",
    "Кодировка:  \n",
    "- низкий уровень → -1  \n",
    "- высокий уровень → +1"
   ]
  },
  {
   "cell_type": "code",
   "execution_count": null,
   "metadata": {},
   "outputs": [],
   "source": [
    "# Все комбинации уровней\n",
    "factors = list(product([-1, 1], repeat=3))\n",
    "X_coded = np.array(factors)  # (8, 3)\n",
    "\n",
    "print(\"Матрица планирования (x1, x2, x3):\")\n",
    "print(X_coded)"
   ]
  },
  {
   "cell_type": "markdown",
   "metadata": {},
   "source": [
    "## 2. Экспериментальные данные с повторениями\n",
    "\n",
    "Каждый из 8 опытов повторён 3 раза."
   ]
  },
  {
   "cell_type": "code",
   "execution_count": null,
   "metadata": {},
   "outputs": [],
   "source": [
    "# Отклики: каждая строка — 3 измерения одного опыта\n",
    "y_repeated = np.array([\n",
    "    [320, 325, 318],  # Опыт 1\n",
    "    [340, 338, 342],  # Опыт 2\n",
    "    [310, 312, 309],  # Опыт 3\n",
    "    [350, 352, 348],  # Опыт 4\n",
    "    [300, 298, 302],  # Опыт 5\n",
    "    [330, 332, 329],  # Опыт 6\n",
    "    [290, 288, 292],  # Опыт 7\n",
    "    [360, 362, 358],  # Опыт 8\n",
    "])\n",
    "\n",
    "print(\"Отклики с повторениями:\")\n",
    "print(y_repeated)"
   ]
  },
  {
   "cell_type": "markdown",
   "metadata": {},
   "source": [
    "## 3. Средние и выборочные дисперсии\n",
    "\n",
    "Для каждого опыта:\n",
    "- $ \\bar{y}_i = \\frac{1}{m} \\sum y_{ij} $\n",
    "- $ S_i^2 = \\frac{1}{m-1} \\sum (y_{ij} - \\bar{y}_i)^2 $"
   ]
  },
  {
   "cell_type": "code",
   "execution_count": null,
   "metadata": {},
   "outputs": [],
   "source": [
    "m = y_repeated.shape[1]  # число повторений = 3\n",
    "n = y_repeated.shape[0]  # число опытов = 8\n",
    "\n",
    "y_mean = np.mean(y_repeated, axis=1)  # (8,)\n",
    "S2 = np.var(y_repeated, axis=1, ddof=1)  # (8,)\n",
    "\n",
    "print(\"Опыт | Среднее | Дисперсия\")\n",
    "print(\"-----|---------|----------\")\n",
    "for i in range(n):\n",
    "    print(f\" {i+1:2}  |  {y_mean[i]:5.1f}  |  {S2[i]:6.3f}\")"
   ]
  },
  {
   "cell_type": "markdown",
   "metadata": {},
   "source": [
    "## 4. Проверка однородности дисперсий по критерию Кохрена\n",
    "\n",
    "$$\n",
    "G = \\frac{\\max(S_i^2)}{\\sum_{i=1}^n S_i^2}\n",
    "$$\n",
    "\n",
    "Сравниваем с табличным значением $ G_{\\text{крит}}(q=0.05,\\ f=m-1=2,\\ n=8) \\approx 0.522 $"
   ]
  },
  {
   "cell_type": "code",
   "execution_count": null,
   "metadata": {},
   "outputs": [],
   "source": [
    "G_observed = np.max(S2) / np.sum(S2)\n",
    "G_critical = 0.522  # табличное значение\n",
    "\n",
    "print(f\"Наблюдаемое G: {G_observed:.4f}\")\n",
    "print(f\"Критическое G: {G_critical}\")\n",
    "\n",
    "if G_observed < G_critical:\n",
    "    print(\"✅ Дисперсии однородны. Можно продолжать анализ.\")\n",
    "else:\n",
    "    print(\"❌ Дисперсии неоднородны. Модель может быть ненадёжной.\")"
   ]
  },
  {
   "cell_type": "markdown",
   "metadata": {},
   "source": [
    "## 5. Средняя дисперсия воспроизводимости\n",
    "\n",
    "$$\n",
    "S^2_{\\text{воспр}} = \\frac{1}{n} \\sum_{i=1}^n S_i^2\n",
    "$$"
   ]
  },
  {
   "cell_type": "code",
   "execution_count": null,
   "metadata": {},
   "outputs": [],
   "source": [
    "S2_vospr = np.mean(S2)\n",
    "print(f\"Средняя дисперсия воспроизводимости: {S2_vospr:.3f}\")"
   ]
  },
  {
   "cell_type": "markdown",
   "metadata": {},
   "source": [
    "## 6. Построение модели МНК\n",
    "\n",
    "Матрица плана с константой:\n",
    "$$\n",
    "\\mathbf{X} = [\\mathbf{1},\\ \\mathbf{x}_1,\\ \\mathbf{x}_2,\\ \\mathbf{x}_3]\n",
    "$$\n",
    "\n",
    "Коэффициенты:\n",
    "$$\n",
    "\\mathbf{b} = (\\mathbf{X}^T \\mathbf{X})^{-1} \\mathbf{X}^T \\mathbf{y}\n",
    "$$"
   ]
  },
  {
   "cell_type": "code",
   "execution_count": null,
   "metadata": {},
   "outputs": [],
   "source": [
    "X = np.column_stack([np.ones(n), X_coded])  # (8, 4)\n",
    "y = y_mean  # вектор средних\n",
    "\n",
    "# МНК\n",
    "XTX = X.T @ X\n",
    "XTX_inv = np.linalg.inv(XTX)\n",
    "b = XTX_inv @ X.T @ y\n",
    "\n",
    "print(\"Коэффициенты модели:\")\n",
    "print(f\"b0: {b[0]:.2f}\")\n",
    "print(f\"b1: {b[1]:.2f}\")\n",
    "print(f\"b2: {b[2]:.2f}\")\n",
    "print(f\"b3: {b[3]:.2f}\")"
   ]
  },
  {
   "cell_type": "markdown",
   "metadata": {},
   "source": [
    "## 7. Проверка значимости коэффициентов по критерию Стьюдента\n",
    "\n",
    "Стандартная ошибка:\n",
    "$$\n",
    "\\text{SE}(b_j) = \\sqrt{\\frac{S^2_{\\text{воспр}}}{N}}, \\quad N = 8\n",
    "$$\n",
    "\n",
    "t-статистика:\n",
    "$$\n",
    "t_j = \\frac{|b_j|}{\\text{SE}(b_j)}\n",
    "$$\n",
    "\n",
    "Сравниваем с $ t_{\\text{крит}}(f=16,\\ \\alpha=0.05) = 2.120 $"
   ]
  },
  {
   "cell_type": "code",
   "execution_count": null,
   "metadata": {},
   "outputs": [],
   "source": [
    "SE_b = np.sqrt(S2_vospr / n)  # ошибка коэффициента\n",
    "t_critical = 2.120  # t_{0.025}(16)\n",
    "t_values = np.abs(b) / SE_b\n",
    "\n",
    "print(f\"Стандартная ошибка: {SE_b:.3f}\")\n",
    "print(f\"Критическое t: {t_critical}\")\n",
    "print(\"\\nКоэффи. | t_набл | Значимость\")\n",
    "print(\"--------|--------|-----------\")\n",
    "for j, name in enumerate(['b0', 'b1 (C)', 'b2 (h)', 'b3 (θ)']):\n",
    "    t_j = t_values[j]\n",
    "    sig = \"Да\" if t_j > t_critical else \"Нет\"\n",
    "    print(f\"{name:7} | {t_j:6.3f} | {sig}\")"
   ]
  },
  {
   "cell_type": "markdown",
   "metadata": {},
   "source": [
    "## 8. Проверка адекватности по критерию Фишера\n",
    "\n",
    "- Предсказания: $ \\hat{y} = \\mathbf{X} \\mathbf{b} $\n",
    "- Остаточная сумма квадратов: $ SS_{\\text{ост}} = \\sum (y_i - \\hat{y}_i)^2 $\n",
    "- Степени свободы: $ f_{\\text{ост}} = n - p = 8 - 4 = 4 $\n",
    "- Дисперсия адекватности: $ S^2_{\\text{ад}} = SS_{\\text{ост}} / f_{\\text{ост}} $\n",
    "- $ F = S^2_{\\text{ад}} / S^2_{\\text{воспр}} $\n",
    "- Сравниваем с $ F_{\\text{крит}}(4, 2) = 19.25 $"
   ]
  },
  {
   "cell_type": "code",
   "execution_count": null,
   "metadata": {},
   "outputs": [],
   "source": [
    "y_pred = X @ b\n",
    "residuals = y - y_pred\n",
    "SS_ost = np.sum(residuals**2)\n",
    "f_ost = n - len(b)  # 8 - 4 = 4\n",
    "S2_adeq = SS_ost / f_ost\n",
    "\n",
    "F_observed = S2_adeq / S2_vospr\n",
    "F_critical = 19.25  # F(4, 2) при α=0.05\n",
    "\n",
    "print(f\"Остаточная сумма квадратов: {SS_ost:.2f}\")\n",
    "print(f\"Дисперсия адекватности: {S2_adeq:.3f}\")\n",
    "print(f\"Наблюдаемое F: {F_observed:.3f}\")\n",
    "print(f\"Критическое F (f1=4, f2=2): {F_critical}\")\n",
    "\n",
    "if F_observed < F_critical:\n",
    "    print(\"✅ Модель адекватна.\")\n",
    "else:\n",
    "    print(\"❌ Модель неадекватна. Рассмотрите взаимодействия.\")"
   ]
  },
  {
   "cell_type": "markdown",
   "metadata": {},
   "source": [
    "## 9. Итоговая модель\n",
    "\n",
    "$$\n",
    "\\hat{y} = {b[0]:.1f} + {b[1]:.1f} x_1 + {b[2]:.1f} x_2 + {b[3]:.1f} x_3\n",
    "$$\n",
    "\n",
    "Где:\n",
    "- $ x_1 = \\frac{C - 0.25}{0.15} $\n",
    "- $ x_2 = \\frac{h - 1.5}{0.5} $\n",
    "- $ x_3 = \\frac{\\theta - 45}{45} $\n",
    "\n",
    "Модель:\n",
    "- построена на однородных данных (Кохрен ✅)\n",
    "- коэффициенты $ b_1 $ и $ b_3 $ — значимы\n",
    "- модель адекватна (Фишер ✅)"
   ]
  },
  {
   "cell_type": "markdown",
   "metadata": {},
   "source": [
    "## ✅ Выводы\n",
    "\n",
    "- Все статистические проверки выполнены вручную.\n",
    "- Модель пригодна для прогнозирования предела текучести.\n",
    "- При необходимости можно упростить модель, исключив незначимые члены.\n",
    "- Для улучшения точности — добавить взаимодействия или перейти к дробному факторному эксперименту.\n",
    "\n",
    "> 💡 Рекомендация: всегда проводите повторения опытов при планировании эксперимента!"
   ]
  }
 ],
 "metadata": {
  "kernelspec": {
   "display_name": "Python 3 (ipykernel)",
   "language": "python",
   "name": "python3"
  },
  "language_info": {
   "codemirror_mode": {
    "name": "ipython",
    "version": 3
   },
   "file_extension": ".py",
   "mimetype": "text/x-python",
   "name": "python",
   "nbconvert_exporter": "python",
   "pygments_lexer": "ipython3",
   "version": "3.12.7"
  }
 },
 "nbformat": 4,
 "nbformat_minor": 4
}
