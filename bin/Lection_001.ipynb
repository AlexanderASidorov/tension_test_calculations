{
 "cells": [
  {
   "cell_type": "markdown",
   "id": "6271ec1b",
   "metadata": {},
   "source": [
    "# Лекция 01: Основы Python для инженеров\n",
    "<hr style=\"border:2px solid gray\">\n",
    "Темы:\n",
    "\n",
    "- Как работать со списками\n",
    "- Циклы `for`, `while` и условный оператор `if`\n",
    "- Как открыть и прочитать данные из текстового файла"
   ]
  },
  {
   "cell_type": "markdown",
   "id": "a299bde4",
   "metadata": {},
   "source": [
    "## ● Работа со списками: 10 основных методов\n",
    "<hr style=\"border:2px solid gray\">\n",
    "\n",
    "Создадим списки `strain_list` (деформация, %) и `stress_list` (напряжение, МПа) вручную — от 0 до 55% деформации."
   ]
  },
  {
   "cell_type": "code",
   "execution_count": 2,
   "id": "f5c5d32e",
   "metadata": {},
   "outputs": [
    {
     "name": "stdout",
     "output_type": "stream",
     "text": [
      "Созданы списки: 29 точек кривой упрочнения.\n"
     ]
    }
   ],
   "source": [
    "# Вручную заданные данные кривой упрочнения стали 40Х (от 0 до 55%)\n",
    "strain_list = [\n",
    "    0.0, 0.1, 0.2, 0.3, 0.4, 0.5,\n",
    "    0.7, 1.0, 1.2, 1.5,\n",
    "    2.0, 3.0, 5.0, 8.0, 10.0, 12.0, 15.0, 18.0, 20.0,\n",
    "    22.0, 25.0, 28.0, 30.0,\n",
    "    35.0, 40.0, 45.0, 50.0, 52.0, 55.0\n",
    "]\n",
    "\n",
    "stress_list = [\n",
    "    0, 100, 200, 300, 400, 500,\n",
    "    520, 510, 530, 520,\n",
    "    560, 600, 660, 720, 760, 790, 810, 820, 825,\n",
    "    820, 810, 790, 770,\n",
    "    720, 650, 550, 480, 450, 430\n",
    "]\n",
    "\n",
    "print(f'Созданы списки: {len(strain_list)} точек кривой упрочнения.')"
   ]
  },
  {
   "cell_type": "markdown",
   "id": "b2651aa3",
   "metadata": {},
   "source": [
    "#### 1. `append()` — добавить элемент в конец списка"
   ]
  },
  {
   "cell_type": "code",
   "execution_count": 3,
   "id": "58afe56a",
   "metadata": {},
   "outputs": [
    {
     "name": "stdout",
     "output_type": "stream",
     "text": [
      "Добавлена точка: 58.0 %,  410.0 МПа\n"
     ]
    }
   ],
   "source": [
    "strain_list.append(58.0)\n",
    "stress_list.append(410.0)\n",
    "print('Добавлена точка:', strain_list[-1], '%, ', stress_list[-1], 'МПа')"
   ]
  },
  {
   "cell_type": "markdown",
   "id": "00d43269",
   "metadata": {},
   "source": [
    "#### 2. `extend()` — добавить несколько элементов"
   ]
  },
  {
   "cell_type": "code",
   "execution_count": 4,
   "id": "fc9d3317",
   "metadata": {},
   "outputs": [
    {
     "name": "stdout",
     "output_type": "stream",
     "text": [
      "Последние деформации: [55.0, 58.0, 60.0, 62.0]\n"
     ]
    }
   ],
   "source": [
    "strain_list.extend([60.0, 62.0])\n",
    "stress_list.extend([400.0, 390.0])\n",
    "print('Последние деформации:', strain_list[-4:])"
   ]
  },
  {
   "cell_type": "markdown",
   "id": "ae88bae4",
   "metadata": {},
   "source": [
    "### 3. `insert(index, value)` — вставить элемент"
   ]
  },
  {
   "cell_type": "code",
   "execution_count": 5,
   "id": "6083265f",
   "metadata": {},
   "outputs": [
    {
     "name": "stdout",
     "output_type": "stream",
     "text": [
      "Первые две деформации: 0.05 0.0\n"
     ]
    }
   ],
   "source": [
    "strain_list.insert(0, 0.05)\n",
    "stress_list.insert(0, 50.0)\n",
    "print('Первые две деформации:', strain_list[0], strain_list[1])"
   ]
  },
  {
   "cell_type": "markdown",
   "id": "a420d930",
   "metadata": {},
   "source": [
    "### 4. `remove(value)` — удалить первое вхождение"
   ]
  },
  {
   "cell_type": "code",
   "execution_count": 6,
   "id": "879d2d58",
   "metadata": {},
   "outputs": [
    {
     "name": "stdout",
     "output_type": "stream",
     "text": [
      "После удаления: 0.0 0\n"
     ]
    }
   ],
   "source": [
    "stress_list.remove(50.0)\n",
    "strain_list.remove(0.05)\n",
    "print('После удаления:', strain_list[0], stress_list[0])"
   ]
  },
  {
   "cell_type": "markdown",
   "id": "1a93661e",
   "metadata": {},
   "source": [
    "### 5. `pop([index])` — удалить и вернуть элемент"
   ]
  },
  {
   "cell_type": "code",
   "execution_count": 7,
   "id": "cf7ed1ab",
   "metadata": {},
   "outputs": [
    {
     "name": "stdout",
     "output_type": "stream",
     "text": [
      "Удалена точка: 62.0%, 390.0 МПа\n"
     ]
    }
   ],
   "source": [
    "last_strain = strain_list.pop()\n",
    "last_stress = stress_list.pop()\n",
    "print(f'Удалена точка: {last_strain}%, {last_stress} МПа')"
   ]
  },
  {
   "cell_type": "markdown",
   "id": "09fb4a87",
   "metadata": {},
   "source": [
    "### 6. `index(value)` — найти индекс элемента"
   ]
  },
  {
   "cell_type": "code",
   "execution_count": 8,
   "id": "4207998c",
   "metadata": {},
   "outputs": [
    {
     "name": "stdout",
     "output_type": "stream",
     "text": [
      "Индекс деформации 20.0%: 18, напряжение: 825 МПа\n"
     ]
    }
   ],
   "source": [
    "idx = strain_list.index(20.0)\n",
    "print(f'Индекс деформации 20.0%: {idx}, напряжение: {stress_list[idx]} МПа')\n",
    "\n"
   ]
  },
  {
   "cell_type": "markdown",
   "id": "e3acd733",
   "metadata": {},
   "source": [
    "### 7. `count(value)` — количество вхождений"
   ]
  },
  {
   "cell_type": "code",
   "execution_count": 9,
   "id": "ca3c06a4",
   "metadata": {},
   "outputs": [
    {
     "name": "stdout",
     "output_type": "stream",
     "text": [
      "Напряжение 820.0 МПа встречается 2 раз\n"
     ]
    }
   ],
   "source": [
    "n = stress_list.count(820.0)\n",
    "print(f'Напряжение 820.0 МПа встречается {n} раз')\n"
   ]
  },
  {
   "cell_type": "markdown",
   "id": "37b51356",
   "metadata": {},
   "source": [
    "### 8. `sort()` — сортировка списка"
   ]
  },
  {
   "cell_type": "code",
   "execution_count": 10,
   "id": "b494cd1a",
   "metadata": {},
   "outputs": [
    {
     "name": "stdout",
     "output_type": "stream",
     "text": [
      "Отсортированные значения: [2.0, 3.0, 5.0, 8.0]\n"
     ]
    }
   ],
   "source": [
    "temp = [5.0, 2.0, 8.0, 3.0]\n",
    "temp.sort()\n",
    "print('Отсортированные значения:', temp)"
   ]
  },
  {
   "cell_type": "markdown",
   "id": "2e8cbfdd",
   "metadata": {},
   "source": [
    "### 9. `reverse()` — развернуть список"
   ]
  },
  {
   "cell_type": "code",
   "execution_count": 11,
   "id": "4d406768",
   "metadata": {},
   "outputs": [
    {
     "name": "stdout",
     "output_type": "stream",
     "text": [
      "Развёрнутый фрагмент: [40.0, 35.0, 30.0, 28.0, 25.0]\n"
     ]
    }
   ],
   "source": [
    "temp_copy = strain_list[20:25]  # вырезка\n",
    "temp_copy.reverse()\n",
    "print('Развёрнутый фрагмент:', temp_copy)"
   ]
  },
  {
   "cell_type": "markdown",
   "id": "c346cfd9",
   "metadata": {},
   "source": [
    "### 10. `clear()` — очистить список"
   ]
  },
  {
   "cell_type": "code",
   "execution_count": 12,
   "id": "cc2a199b",
   "metadata": {},
   "outputs": [
    {
     "name": "stdout",
     "output_type": "stream",
     "text": [
      "После clear(): [] — список пуст\n"
     ]
    }
   ],
   "source": [
    "demo = [1, 2, 3]\n",
    "demo.clear()\n",
    "print('После clear():', demo, '— список пуст')"
   ]
  },
  {
   "cell_type": "markdown",
   "id": "e4b78a39",
   "metadata": {},
   "source": [
    "## ● Циклы `for` и условный оператор `if`\n",
    "<hr style=\"border:2px solid gray\">"
   ]
  },
  {
   "cell_type": "markdown",
   "id": "29d28218",
   "metadata": {},
   "source": [
    "Теперь используем списки `strain_list` и `stress_list` для анализа."
   ]
  },
  {
   "cell_type": "code",
   "execution_count": 13,
   "id": "cf24eea1",
   "metadata": {},
   "outputs": [
    {
     "name": "stdout",
     "output_type": "stream",
     "text": [
      "Точки с напряжением > 700 МПа:\n",
      "8.0% → 720.0 МПа\n",
      "10.0% → 760.0 МПа\n",
      "12.0% → 790.0 МПа\n",
      "15.0% → 810.0 МПа\n",
      "18.0% → 820.0 МПа\n",
      "20.0% → 825.0 МПа\n",
      "22.0% → 820.0 МПа\n",
      "25.0% → 810.0 МПа\n",
      "28.0% → 790.0 МПа\n",
      "30.0% → 770.0 МПа\n",
      "35.0% → 720.0 МПа\n"
     ]
    }
   ],
   "source": [
    "print('Точки с напряжением > 700 МПа:')\n",
    "for i in range(len(stress_list)):\n",
    "    s = stress_list[i]\n",
    "    e = strain_list[i]\n",
    "    if s > 700:\n",
    "        print(f'{e:.1f}% → {s:.1f} МПа')"
   ]
  },
  {
   "cell_type": "markdown",
   "id": "884fb9f5",
   "metadata": {},
   "source": [
    "### Классификация по участкам диаграммы"
   ]
  },
  {
   "cell_type": "code",
   "execution_count": 14,
   "id": "8d762095",
   "metadata": {},
   "outputs": [
    {
     "name": "stdout",
     "output_type": "stream",
     "text": [
      "Анализ по участкам:\n",
      "0.0% — 0.0 МПа → упругость / текучесть\n",
      "0.1% — 100.0 МПа → упругость / текучесть\n",
      "0.2% — 200.0 МПа → упругость / текучесть\n",
      "0.3% — 300.0 МПа → упругость / текучесть\n",
      "0.4% — 400.0 МПа → упругость / текучесть\n",
      "0.5% — 500.0 МПа → упругость / текучесть\n",
      "0.7% — 520.0 МПа → упругость / текучесть\n",
      "1.0% — 510.0 МПа → упрочнение\n",
      "1.2% — 530.0 МПа → упрочнение\n",
      "1.5% — 520.0 МПа → упрочнение\n",
      "2.0% — 560.0 МПа → упрочнение\n",
      "3.0% — 600.0 МПа → упрочнение\n",
      "5.0% — 660.0 МПа → упрочнение\n",
      "8.0% — 720.0 МПа → упрочнение\n",
      "10.0% — 760.0 МПа → упрочнение\n",
      "12.0% — 790.0 МПа → упрочнение\n",
      "15.0% — 810.0 МПа → упрочнение\n",
      "18.0% — 820.0 МПа → упрочнение\n",
      "20.0% — 825.0 МПа → разупрочнение\n",
      "22.0% — 820.0 МПа → разупрочнение\n",
      "25.0% — 810.0 МПа → разупрочнение\n",
      "28.0% — 790.0 МПа → разупрочнение\n",
      "30.0% — 770.0 МПа → разупрочнение\n",
      "35.0% — 720.0 МПа → разупрочнение\n",
      "40.0% — 650.0 МПа → разупрочнение\n",
      "45.0% — 550.0 МПа → разупрочнение\n",
      "50.0% — 480.0 МПа → разупрочнение\n",
      "52.0% — 450.0 МПа → разупрочнение\n",
      "55.0% — 430.0 МПа → разупрочнение\n",
      "58.0% — 410.0 МПа → разупрочнение\n",
      "60.0% — 400.0 МПа → разупрочнение\n"
     ]
    }
   ],
   "source": [
    "print('Анализ по участкам:')\n",
    "for i in range(len(strain_list)):\n",
    "    e = strain_list[i]\n",
    "    s = stress_list[i]\n",
    "    \n",
    "    if e < 1.0:\n",
    "        zone = 'упругость / текучесть'\n",
    "    elif e < 20.0:\n",
    "        zone = 'упрочнение'\n",
    "    else:\n",
    "        zone = 'разупрочнение'\n",
    "    \n",
    "    print(f'{e:.1f}% — {s:.1f} МПа → {zone}')"
   ]
  },
  {
   "cell_type": "markdown",
   "id": "f113248e",
   "metadata": {},
   "source": [
    "### Поиск максимального напряжения"
   ]
  },
  {
   "cell_type": "code",
   "execution_count": 15,
   "id": "5f3f2a22",
   "metadata": {},
   "outputs": [
    {
     "name": "stdout",
     "output_type": "stream",
     "text": [
      "Максимальное напряжение: 825 МПа при деформации 20.0 %\n"
     ]
    }
   ],
   "source": [
    "max_stress = 0.0\n",
    "max_idx = 0\n",
    "\n",
    "for i in range(len(stress_list)):\n",
    "    if stress_list[i] > max_stress:\n",
    "        max_stress = stress_list[i]\n",
    "        max_idx = i\n",
    "\n",
    "print(f'Максимальное напряжение: {max_stress} МПа при деформации {strain_list[max_idx]} %')"
   ]
  },
  {
   "cell_type": "markdown",
   "id": "25369436-ad4c-43ba-901c-9e1cd396d45d",
   "metadata": {},
   "source": [
    "### Поиск деформации, при которой напряжение превысит 700 МПа"
   ]
  },
  {
   "cell_type": "code",
   "execution_count": 16,
   "id": "06a31902-7eaa-4dcd-9a72-c149f83ae4b7",
   "metadata": {},
   "outputs": [
    {
     "name": "stdout",
     "output_type": "stream",
     "text": [
      "Напряжение 700.0 МПа достигнуто при деформации 8.0 %\n"
     ]
    }
   ],
   "source": [
    "index = 0\n",
    "target_stress = 700.0\n",
    "found = False\n",
    "\n",
    "while index < len(stress_list) and not found:\n",
    "    if stress_list[index] >= target_stress:\n",
    "        print(f\"Напряжение {target_stress} МПа достигнуто при деформации {strain_list[index]} %\")\n",
    "        found = True\n",
    "    else:\n",
    "        index += 1\n",
    "\n",
    "if not found:\n",
    "    print(f\"Напряжение {target_stress} МПа не достигнуто в данных.\")"
   ]
  },
  {
   "cell_type": "markdown",
   "id": "ede59d80",
   "metadata": {},
   "source": [
    "## ●  Как открыть и прочитать данные из текстового файла\n",
    "<hr style=\"border:2px solid gray\">"
   ]
  },
  {
   "cell_type": "markdown",
   "id": "061d5683",
   "metadata": {},
   "source": [
    "Теперь сохраним наши списки в файл и прочитаем их обратно."
   ]
  },
  {
   "cell_type": "code",
   "execution_count": 17,
   "id": "dfd2e4f2",
   "metadata": {},
   "outputs": [
    {
     "name": "stdout",
     "output_type": "stream",
     "text": [
      "Данные сохранены в файл: steel_curve_40h.txt\n"
     ]
    }
   ],
   "source": [
    "# Сохраняем данные в файл\n",
    "with open('steel_curve_40h.txt', 'w', encoding='utf-8') as f:\n",
    "    f.write('Деформация_%,Напряжение_МПа\\n')\n",
    "    for i in range(len(strain_list)):\n",
    "        f.write(f'{strain_list[i]:.1f},{stress_list[i]:.1f}\\n')\n",
    "        \n",
    "print('Данные сохранены в файл: steel_curve_40h.txt')"
   ]
  },
  {
   "cell_type": "code",
   "execution_count": 18,
   "id": "86199a0b",
   "metadata": {},
   "outputs": [
    {
     "name": "stdout",
     "output_type": "stream",
     "text": [
      "Содержимое файла:\n",
      "Деформация_%,Напряжение_МПа\n",
      "0.0,0.0\n",
      "0.1,100.0\n",
      "0.2,200.0\n",
      "0.3,300.0\n",
      "0.4,400.0\n",
      "0.5,500.0\n",
      "0.7,520.0\n",
      "1.0,510.0\n",
      "1.2,530.0\n",
      "1.5,520.0\n",
      "2.0,560.0\n",
      "3.0,600.0\n",
      "5.0,660.0\n",
      "8.0,720.0\n",
      "10.0,760.0\n",
      "12.0,790.0\n",
      "15.0,810.0\n",
      "18.0,820.0\n",
      "20.0,825.0\n",
      "22.0,820.0\n",
      "25.0,810.0\n",
      "28.0,790.0\n",
      "30.0,770.0\n",
      "35.0,720.0\n",
      "40.0,650.0\n",
      "45.0,550.0\n",
      "50.0,480.0\n",
      "52.0,450.0\n",
      "55.0,430.0\n",
      "58.0,410.0\n",
      "60.0,400.0\n"
     ]
    }
   ],
   "source": [
    "# Читаем файл и выводим содержимое\n",
    "print('Содержимое файла:')\n",
    "with open('steel_curve_40h.txt', 'r', encoding='utf-8') as f:\n",
    "    for line in f:\n",
    "        print(line.strip())"
   ]
  },
  {
   "cell_type": "code",
   "execution_count": 19,
   "id": "1ef1682e",
   "metadata": {},
   "outputs": [
    {
     "name": "stdout",
     "output_type": "stream",
     "text": [
      "Загружено 31 точек из файла.\n"
     ]
    }
   ],
   "source": [
    "# Загружаем данные из файла в новые списки\n",
    "strain_loaded = []\n",
    "stress_loaded = []\n",
    "\n",
    "with open('steel_curve_40h.txt', 'r', encoding='utf-8') as f:\n",
    "    f.readline()  # пропускаем заголовок\n",
    "    for line in f:\n",
    "        line = line.strip()\n",
    "        if line:\n",
    "            e, s = map(float, line.split(','))\n",
    "            strain_loaded.append(e)\n",
    "            stress_loaded.append(s)\n",
    "\n",
    "print(f'Загружено {len(strain_loaded)} точек из файла.')"
   ]
  },
  {
   "cell_type": "markdown",
   "id": "342e652c",
   "metadata": {},
   "source": [
    "## Заключение\n",
    "\n",
    "Мы последовательно рассмотрели:\n",
    "1. Как создавать и управлять списками (на примере механических свойств стали)\n",
    "2. Как использовать циклы и условия для анализа данных\n",
    "3. Как сохранять и читать данные из текстового файла\n",
    "\n",
    "Эти навыки — основа для начала обработки данных по результатам испытаний на растяжение"
   ]
  },
  {
   "cell_type": "code",
   "execution_count": null,
   "id": "26bec83c-1390-4952-82d5-097ced8e734a",
   "metadata": {},
   "outputs": [],
   "source": []
  }
 ],
 "metadata": {
  "kernelspec": {
   "display_name": "Python 3 (ipykernel)",
   "language": "python",
   "name": "python3"
  },
  "language_info": {
   "codemirror_mode": {
    "name": "ipython",
    "version": 3
   },
   "file_extension": ".py",
   "mimetype": "text/x-python",
   "name": "python",
   "nbconvert_exporter": "python",
   "pygments_lexer": "ipython3",
   "version": "3.13.2"
  }
 },
 "nbformat": 4,
 "nbformat_minor": 5
}
