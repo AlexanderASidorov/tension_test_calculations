{
 "cells": [
  {
   "cell_type": "markdown",
   "id": "84277a2d",
   "metadata": {},
   "source": [
    "# Python в инженерных расчетах. Лекция 04.\n",
    "<hr style=\"border:2px solid gray\">\n",
    "\n",
    "План занятия:\n",
    "1. Основные методы работы со словарями\n",
    "2. Основные методы работы со множествами\n",
    "3. Основные методы работы с кортежами"
   ]
  },
  {
   "cell_type": "markdown",
   "id": "498240bc-1a9f-49dc-a9a0-6747f800ddf7",
   "metadata": {},
   "source": [
    "## ● Работа со словарями\n",
    "<hr style=\"border:2px solid gray\">\n",
    "\n",
    "#### 1. Создадим словарь `steel` в который запишем основные механические характеристики стали, которые мы ранее раcчитали"
   ]
  },
  {
   "cell_type": "code",
   "execution_count": 137,
   "id": "06ab1009",
   "metadata": {},
   "outputs": [
    {
     "name": "stdout",
     "output_type": "stream",
     "text": [
      "{'марка': '08кп', 'предел прочности, МПа': 316.736, 'предел текучести, МПа': 193.463, 'равномерное удлинение, %': 20.434, 'модуль Юнга, МПа': 221900.122}\n"
     ]
    }
   ],
   "source": [
    "# Пример: механические свойства стали\n",
    "steel = {\n",
    "    'марка': '08кп',\n",
    "    'предел прочности, МПа': 316.736,\n",
    "    'предел текучести, МПа': 193.463,\n",
    "    'равномерное удлинение, %': 20.434,\n",
    "    'модуль Юнга, МПа': 221900.122\n",
    "}\n",
    "\n",
    "print(steel)"
   ]
  },
  {
   "cell_type": "markdown",
   "id": "00145447",
   "metadata": {},
   "source": [
    "#### 2. Доступ к значениям по ключу"
   ]
  },
  {
   "cell_type": "code",
   "execution_count": 138,
   "id": "90da9f11",
   "metadata": {},
   "outputs": [
    {
     "name": "stdout",
     "output_type": "stream",
     "text": [
      "Марка стали: 08кп\n",
      "Предел прочности: 316.736 МПа\n",
      "Равномерное удлинение: 20.434 %\n"
     ]
    }
   ],
   "source": [
    "print('Марка стали:', steel['марка'])\n",
    "print('Предел прочности:', steel['предел прочности, МПа'], 'МПа')\n",
    "print('Равномерное удлинение:', steel['равномерное удлинение, %'], '%')"
   ]
  },
  {
   "cell_type": "markdown",
   "id": "cb875eaf",
   "metadata": {},
   "source": [
    "#### 3. Изменение и добавление элементов"
   ]
  },
  {
   "cell_type": "code",
   "execution_count": 139,
   "id": "f6f9d3f9",
   "metadata": {},
   "outputs": [
    {
     "name": "stdout",
     "output_type": "stream",
     "text": [
      "Обновлённое равнометрое удлинение, %: 20.4\n",
      "Добавлена температура испытаний, °C: 20\n"
     ]
    }
   ],
   "source": [
    "# Изменение существующего значения\n",
    "steel['равномерное удлинение, %'] = 20.4\n",
    "print('Обновлённое равнометрое удлинение, %:', steel['равномерное удлинение, %'])\n",
    "\n",
    "# Добавление нового ключа\n",
    "steel['температура испытания, °C'] = 20\n",
    "print('Добавлена температура испытаний, °C:', steel['температура испытания, °C'])"
   ]
  },
  {
   "cell_type": "markdown",
   "id": "b01d680d",
   "metadata": {},
   "source": [
    "#### 4. Удаление элемента"
   ]
  },
  {
   "cell_type": "code",
   "execution_count": 140,
   "id": "b8981afa",
   "metadata": {},
   "outputs": [
    {
     "name": "stdout",
     "output_type": "stream",
     "text": [
      "После удаления модуля Юнга:\n",
      "{'марка': '08кп', 'предел прочности, МПа': 316.736, 'предел текучести, МПа': 193.463, 'равномерное удлинение, %': 20.4, 'температура испытания, °C': 20}\n"
     ]
    }
   ],
   "source": [
    "del steel['модуль Юнга, МПа']\n",
    "print('После удаления модуля Юнга:')\n",
    "print(steel)"
   ]
  },
  {
   "cell_type": "markdown",
   "id": "98f0f726",
   "metadata": {},
   "source": [
    "#### 5. Проверка наличия ключа"
   ]
  },
  {
   "cell_type": "code",
   "execution_count": 141,
   "id": "3b2b676a",
   "metadata": {},
   "outputs": [
    {
     "name": "stdout",
     "output_type": "stream",
     "text": [
      "Предел текучести указан и равен: 193.463 МПа\n"
     ]
    }
   ],
   "source": [
    "if 'предел текучести, МПа' in steel:\n",
    "    print('Предел текучести указан и равен:', steel['предел текучести, МПа'], 'МПа')\n",
    "else:\n",
    "    print('Предел текучести неизвестен')"
   ]
  },
  {
   "cell_type": "markdown",
   "id": "85d98363",
   "metadata": {},
   "source": [
    "#### 6. Перебор словаря с помощью цикла `for`"
   ]
  },
  {
   "cell_type": "code",
   "execution_count": 142,
   "id": "562ddba6",
   "metadata": {},
   "outputs": [
    {
     "name": "stdout",
     "output_type": "stream",
     "text": [
      "Ключи:\n",
      "марка\n",
      "предел прочности, МПа\n",
      "предел текучести, МПа\n",
      "равномерное удлинение, %\n",
      "температура испытания, °C\n",
      "\n",
      "Ключ → Значение:\n",
      "марка: 08кп\n",
      "предел прочности, МПа: 316.736\n",
      "предел текучести, МПа: 193.463\n",
      "равномерное удлинение, %: 20.4\n",
      "температура испытания, °C: 20\n"
     ]
    }
   ],
   "source": [
    "# Только ключи\n",
    "print('Ключи:')\n",
    "for key in steel:\n",
    "    print(key)\n",
    "# Ключ и значение\n",
    "print('\\nКлюч → Значение:') # \\n - знак начала с новой строки\n",
    "for key, value in steel.items():\n",
    "    print(f'{key}: {value}')"
   ]
  },
  {
   "cell_type": "markdown",
   "id": "257db5c2",
   "metadata": {},
   "source": [
    "#### 7. Полезные методы словаря"
   ]
  },
  {
   "cell_type": "code",
   "execution_count": 143,
   "id": "6f4b8b0c",
   "metadata": {},
   "outputs": [
    {
     "name": "stdout",
     "output_type": "stream",
     "text": [
      "Все ключи: ['марка', 'предел прочности, МПа', 'предел текучести, МПа', 'равномерное удлинение, %', 'температура испытания, °C']\n",
      "\n",
      "Все значения: ['08кп', 316.736, 193.463, 20.4, 20]\n",
      "\n",
      "Все пары: [('марка', '08кп'), ('предел прочности, МПа', 316.736), ('предел текучести, МПа', 193.463), ('равномерное удлинение, %', 20.4), ('температура испытания, °C', 20)]\n"
     ]
    }
   ],
   "source": [
    "print('Все ключи:', list(steel.keys())) # создаем список с ключами\n",
    "print ('')\n",
    "print('Все значения:', list(steel.values())) # создаем список со значениями\n",
    "print ('')\n",
    "print('Все пары:', list(steel.items())) # создаем список со парами ключ-значение в виде кортежа (про кортежи чуть позже поговорим)"
   ]
  },
  {
   "cell_type": "markdown",
   "id": "e93f7b80",
   "metadata": {},
   "source": [
    "#### 8. Получение значения по умолчанию (`get`)"
   ]
  },
  {
   "cell_type": "code",
   "execution_count": 144,
   "id": "cbdbccad",
   "metadata": {},
   "outputs": [
    {
     "name": "stdout",
     "output_type": "stream",
     "text": [
      "Предел текучести: 193.463\n",
      "Модуль Юнга: 210000, МПа\n"
     ]
    }
   ],
   "source": [
    "# Безопасное обращение к ключу\n",
    "yield_strength = steel.get('предел текучести, МПа', 'не указан')\n",
    "youngs_modulus = steel.get('Модуль Юнга, МПа', 210000)\n",
    "\n",
    "print('Предел текучести:', yield_strength)\n",
    "print(f'Модуль Юнга: {youngs_modulus}, МПа')"
   ]
  },
  {
   "cell_type": "markdown",
   "id": "5bb835e9",
   "metadata": {},
   "source": [
    "#### 9. Вложенные словари (очень распротраненный тип данных)"
   ]
  },
  {
   "cell_type": "code",
   "execution_count": 145,
   "id": "1306e355",
   "metadata": {},
   "outputs": [
    {
     "name": "stdout",
     "output_type": "stream",
     "text": [
      "Прочность 40Х: 825 МПа\n"
     ]
    }
   ],
   "source": [
    "materials = {\n",
    "    'Ст3сп': {\n",
    "        'марка': 'Ст3сп',\n",
    "        'прочность': 420,\n",
    "        'текучесть': 245,\n",
    "        'удлинение': 27\n",
    "    },\n",
    "    '40Х': {\n",
    "        'марка': '40Х',\n",
    "        'прочность': 825,\n",
    "        'текучесть': 650,\n",
    "        'удлинение': 14\n",
    "    },\n",
    "    '20ГЛ': {\n",
    "        'марка': '20ГЛ',\n",
    "        'прочность': 500,\n",
    "        'текучесть': 280,\n",
    "        'удлинение': 18\n",
    "    },\n",
    "    '30ХГСА': {\n",
    "        'марка': '30ХГСА',\n",
    "        'прочность': 950,\n",
    "        'текучесть': 785,\n",
    "        'удлинение': 13\n",
    "    },\n",
    "    'Ст45': {\n",
    "        'марка': 'Ст45',\n",
    "        'прочность': 610,\n",
    "        'текучесть': 360,\n",
    "        'удлинение': 16\n",
    "    },\n",
    "    '08кп': {\n",
    "        'марка': '08кп',\n",
    "        'прочность': 330,\n",
    "        'текучесть': 195,\n",
    "        'удлинение': 33\n",
    "    }\n",
    "}\n",
    "print('Прочность 40Х:', materials['40Х']['прочность'], 'МПа')"
   ]
  },
  {
   "cell_type": "markdown",
   "id": "95e4ae10",
   "metadata": {},
   "source": [
    "## ● Работа со множетсвами\n",
    "<hr style=\"border:2px solid gray\">\n",
    "\n",
    "Множество (в терминологии python - set) это набор неиндексированных данных без повторяющихся значений. Т.е. множество может иметь только \n",
    "одно значение 10, одно значение 'десять' и т.д. Создается множетсво с помощью фигурных скобок {}, т.е. аналогично словарю, но без разбивки \n",
    "на ключи и значение.\n",
    "\n",
    "#### 1. Создадим пустое множество `set_of_materials` в которое чуть позже запишем несколько словарей с механическими зарактеристиками сталей"
   ]
  },
  {
   "cell_type": "code",
   "execution_count": 146,
   "id": "b44a5ab6-9598-4d7e-afef-eee552445b98",
   "metadata": {},
   "outputs": [
    {
     "name": "stdout",
     "output_type": "stream",
     "text": [
      "<class 'set'>\n"
     ]
    }
   ],
   "source": [
    "# обратите внимание, что если создавать переменную через пустые фигурные скобки, то будет создан пустой словарь, не множество!!!\n",
    "set_of_materials = set() \n",
    "print (type(set_of_materials))"
   ]
  },
  {
   "cell_type": "markdown",
   "id": "a39bac56-82ef-4f29-a9a3-7562181b07ee",
   "metadata": {},
   "source": [
    "#### 2. Добавление переменных во множество\n",
    "Обратите внимание, что добавить во множество словарь нельзя, т.к. словарь в Python - не является хэшируемым объектом, а множество работает только с хэшируемыми объектами"
   ]
  },
  {
   "cell_type": "code",
   "execution_count": 147,
   "id": "7271e774-30ca-4d58-a734-1da951f781c5",
   "metadata": {},
   "outputs": [
    {
     "name": "stdout",
     "output_type": "stream",
     "text": [
      "{'40Х', 'Ст45', 'ХВГ', '30ХГСА', '08ю', 'Ст3сп', '20ГЛ', 'Ст35', '08кп'}\n"
     ]
    }
   ],
   "source": [
    "for key in materials:\n",
    "    set_of_materials.add(key)\n",
    "\n",
    "set_of_materials.update(['08ю', 'Ст35', 'ХВГ'])\n",
    "print (set_of_materials)"
   ]
  },
  {
   "cell_type": "markdown",
   "id": "a2dac6a0-aa79-453c-89b3-9e8a279f7102",
   "metadata": {},
   "source": [
    "#### 3. Удаление переменных из множества"
   ]
  },
  {
   "cell_type": "code",
   "execution_count": 148,
   "id": "332bcf70-fa32-4626-a68f-386e8fb7a97a",
   "metadata": {},
   "outputs": [
    {
     "name": "stdout",
     "output_type": "stream",
     "text": [
      "{'40Х', 'Ст45', 'ХВГ', '30ХГСА', '08ю', 'Ст3сп', 'Ст35', '08кп'}\n"
     ]
    }
   ],
   "source": [
    "set_of_materials.remove('20ГЛ')\n",
    "set_of_materials.discard('20ГЛ') # удаляет переменную, если она есть во множетсве, если ее нет - не делает ничего\n",
    "print (set_of_materials)"
   ]
  },
  {
   "cell_type": "markdown",
   "id": "6c51822b-492c-40ab-b8ef-3cc92a4a8839",
   "metadata": {},
   "source": [
    "#### 4. Объединение двух множеств"
   ]
  },
  {
   "cell_type": "code",
   "execution_count": 149,
   "id": "697db289-8925-4886-bb59-73ea881a6b30",
   "metadata": {},
   "outputs": [
    {
     "name": "stdout",
     "output_type": "stream",
     "text": [
      "{'40Х', 'Ст45', 'ХВГ', '30ХГСА', 'Ст35', '20ГЛ', 'Ст3сп', '08кп'}\n"
     ]
    }
   ],
   "source": [
    "set_of_materials_01 = {'08кп', 'Ст35', 'ХВГ', 'Ст3сп', '20ГЛ'}\n",
    "set_of_materials_02 = set(['40Х', 'Ст45', 'ХВГ', '30ХГСА', 'Ст3сп', '20ГЛ', 'Ст35', '08кп'])\n",
    "set_of_materials_03 = set(['ХВГ', '30ХГСА', 'Ст3сп', '20ГЛ', 'АД0', 'ВТ6', 'ВТ22'])\n",
    "\n",
    "set_of_materials = set_of_materials_01.union(set_of_materials_02)\n",
    "print (set_of_materials)"
   ]
  },
  {
   "cell_type": "markdown",
   "id": "94dce590-4849-47d8-a88d-f2fee0bf3dc4",
   "metadata": {},
   "source": [
    "#### 4. Проверка пересечений и уникальностей"
   ]
  },
  {
   "cell_type": "code",
   "execution_count": 150,
   "id": "a3bfb4b5-94ff-4f78-875f-0c3c20e2ed0b",
   "metadata": {},
   "outputs": [
    {
     "name": "stdout",
     "output_type": "stream",
     "text": [
      "Материалы, пресутсвующие в обоих множествах: {'ХВГ', '30ХГСА', 'Ст3сп', '20ГЛ'}\n",
      "Уникальные материалы из множества set_of_materials_03: {'ВТ22', 'АД0', 'ВТ6'}\n",
      "Материалы уникальные для каждого из множеств: {'40Х', 'Ст45', 'Ст35', 'АД0', 'ВТ22', '08кп', 'ВТ6'}\n"
     ]
    }
   ],
   "source": [
    "intersection = set_of_materials.intersection(set_of_materials_03)\n",
    "difference = set_of_materials_03.difference(set_of_materials)\n",
    "outersection = set_of_materials_03.symmetric_difference(set_of_materials)\n",
    "print (f'Материалы, пресутсвующие в обоих множествах: {intersection}')\n",
    "print (f'Уникальные материалы из множества set_of_materials_03: {difference}')\n",
    "print (f'Материалы уникальные для каждого из множеств: {outersection}')"
   ]
  },
  {
   "cell_type": "markdown",
   "id": "435aa2e0-9efc-41ca-bc5e-b185b2e62f18",
   "metadata": {},
   "source": [
    "## ● Работа с кортежами\n",
    "<hr style=\"border:2px solid gray\">\n",
    "\n",
    "Кортеж (в терминологии python - tuple) - упорядоченный и неизменяемый набор данных. Допускает наличие повторяющихся элементов. Создается с помощью круглых скобок.\n",
    "Использование кортежей, когда это возможно, предпочтительнее нежели использование списков, т.к. они занимают меньше месиа в памяти компьютера и их итерирование происходит быстрее."
   ]
  },
  {
   "cell_type": "code",
   "execution_count": 151,
   "id": "67891e5d-2716-4ba0-9c3a-0c6b5444a117",
   "metadata": {},
   "outputs": [
    {
     "name": "stdout",
     "output_type": "stream",
     "text": [
      "({'марка': '08кп', 'прочность': 330, 'текучесть': 195, 'удлинение': 33}, {'марка': '40Х', 'прочность': 825, 'текучесть': 650, 'удлинение': 14}, {'марка': 'Ст45', 'прочность': 610, 'текучесть': 360, 'удлинение': 16})\n"
     ]
    }
   ],
   "source": [
    "tuple_of_materials = (materials['08кп'], materials['40Х'], materials['Ст45'])\n",
    "print (tuple_of_materials)"
   ]
  },
  {
   "cell_type": "markdown",
   "id": "c9a41124-e795-4da0-ac9c-341579fc078e",
   "metadata": {},
   "source": [
    "### Наиболее очевидный пример использования кортежей\n",
    "Допустим у нас есть две переменные:\n",
    "\n",
    "a = 1000\n",
    "\n",
    "b = 0.001\n",
    "\n",
    "и допустим нам надо присвоить a значение b, а значению b - значение a\n",
    "\n",
    "мы можем это сделать через третью переменную temp:\n",
    "\n",
    "temp = a\n",
    "a=b\n",
    "b=temp\n",
    "\n",
    "то же самое можно сделать с помощью кортежа:\n",
    "\n",
    "a, b = (b, a)"
   ]
  },
  {
   "cell_type": "code",
   "execution_count": 152,
   "id": "6498ef9b-558d-4ee3-b82f-1544a2dccebb",
   "metadata": {},
   "outputs": [
    {
     "name": "stdout",
     "output_type": "stream",
     "text": [
      "Сталь для листовой штамповки: Ст45\n",
      "Сталь для объемной штамповки: 08кп\n"
     ]
    }
   ],
   "source": [
    "steel_for_sheet_forming = tuple_of_materials[2]\n",
    "steel_for_bulk_forming = tuple_of_materials[0]\n",
    "print (f'Сталь для листовой штамповки: {steel_for_sheet_forming['марка']}')\n",
    "print (f'Сталь для объемной штамповки: {steel_for_bulk_forming['марка']}')\n",
    "# очевидно, что мы неправильно назначение сталей определили:"
   ]
  },
  {
   "cell_type": "code",
   "execution_count": 153,
   "id": "cebf433b-473c-4211-bd34-63c8dccdb1dc",
   "metadata": {},
   "outputs": [
    {
     "name": "stdout",
     "output_type": "stream",
     "text": [
      "Сталь для листовой штамповки: 08кп\n",
      "Сталь для объемной штамповки: Ст45\n"
     ]
    }
   ],
   "source": [
    "steel_for_sheet_forming, steel_for_bulk_forming = (steel_for_bulk_forming, steel_for_sheet_forming)\n",
    "print (f'Сталь для листовой штамповки: {steel_for_sheet_forming['марка']}')\n",
    "print (f'Сталь для объемной штамповки: {steel_for_bulk_forming['марка']}')"
   ]
  },
  {
   "cell_type": "code",
   "execution_count": null,
   "id": "a7fdd31e-2843-4c10-9497-02dc0405d7c7",
   "metadata": {},
   "outputs": [],
   "source": []
  }
 ],
 "metadata": {
  "kernelspec": {
   "display_name": "Python 3 (ipykernel)",
   "language": "python",
   "name": "python3"
  },
  "language_info": {
   "codemirror_mode": {
    "name": "ipython",
    "version": 3
   },
   "file_extension": ".py",
   "mimetype": "text/x-python",
   "name": "python",
   "nbconvert_exporter": "python",
   "pygments_lexer": "ipython3",
   "version": "3.12.7"
  }
 },
 "nbformat": 4,
 "nbformat_minor": 5
}
