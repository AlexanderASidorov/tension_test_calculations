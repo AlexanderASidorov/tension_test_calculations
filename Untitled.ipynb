{
 "cells": [
  {
   "cell_type": "code",
   "execution_count": 24,
   "id": "e376fb7b-7e04-4256-969a-a8c33db7c71a",
   "metadata": {},
   "outputs": [
    {
     "name": "stdout",
     "output_type": "stream",
     "text": [
      "{'марка': '08кп', 'предел текучести': [193.0, 198.0], 'предел прочности': 316.0, 'равномерное удлинение': 20.434, 'модуль Юнга': 221900}\n"
     ]
    }
   ],
   "source": [
    "steel = {'марка': '08кп', \n",
    "         'предел текучести': [193.0, 198.0], \n",
    "         'предел прочности': 316.0, \n",
    "         'равномерное удлинение': 20.434, \n",
    "         'модуль Юнга': 221900}\n",
    "print (steel)"
   ]
  },
  {
   "cell_type": "code",
   "execution_count": 9,
   "id": "097e301f-29cb-4701-bfe1-62edebfb81ed",
   "metadata": {},
   "outputs": [
    {
     "name": "stdout",
     "output_type": "stream",
     "text": [
      "08кп\n",
      "08кп\n"
     ]
    }
   ],
   "source": [
    "print (steel['марка'])\n",
    "grade = steel['марка']\n",
    "print (grade)"
   ]
  },
  {
   "cell_type": "code",
   "execution_count": 10,
   "id": "b2411adc-babf-45be-b4a7-84c8343465de",
   "metadata": {},
   "outputs": [
    {
     "name": "stdout",
     "output_type": "stream",
     "text": [
      "20.4\n"
     ]
    }
   ],
   "source": [
    "steel ['равномерное удлинение'] = 20.4\n",
    "print (steel['равномерное удлинение'])"
   ]
  },
  {
   "cell_type": "code",
   "execution_count": 12,
   "id": "6c026f2d-3c66-4063-ab0c-7b4daf77addd",
   "metadata": {},
   "outputs": [
    {
     "name": "stdout",
     "output_type": "stream",
     "text": [
      "{'марка': '08кп', 'предел текучести': 193.0, 'предел прочности': 316.0, 'равномерное удлинение': 20.4, 'модуль Юнга': 221900, 'температура испытаний': 20}\n"
     ]
    }
   ],
   "source": [
    "steel ['температура испытаний'] = 20\n",
    "print (steel)"
   ]
  },
  {
   "cell_type": "code",
   "execution_count": 29,
   "id": "616f8de9-8d9d-47c7-bdc8-91c71ed2f65b",
   "metadata": {},
   "outputs": [
    {
     "name": "stdout",
     "output_type": "stream",
     "text": [
      "{'марка': '08кп', 'предел текучести': [193.0, 198.0], 'предел прочности': 316.0, 'равномерное удлинение': 20.434}\n"
     ]
    }
   ],
   "source": [
    "del steel ['модуль Юнга']\n",
    "print (steel)"
   ]
  },
  {
   "cell_type": "code",
   "execution_count": 15,
   "id": "f93a302d-15a7-4154-af80-e69c876aab1d",
   "metadata": {},
   "outputs": [
    {
     "name": "stdout",
     "output_type": "stream",
     "text": [
      "модуль Юнга не определн\n"
     ]
    }
   ],
   "source": [
    "if 'модуль Юнга' in steel:\n",
    "    print ('модуль Юнга определн')\n",
    "else:\n",
    "    print ('модуль Юнга не определн')"
   ]
  },
  {
   "cell_type": "code",
   "execution_count": 17,
   "id": "c976f8d9-0d7e-4dda-928f-51067e9c9835",
   "metadata": {},
   "outputs": [
    {
     "name": "stdout",
     "output_type": "stream",
     "text": [
      "марка\n",
      "предел текучести\n",
      "предел прочности\n",
      "равномерное удлинение\n",
      "температура испытаний\n"
     ]
    }
   ],
   "source": [
    "for key in steel:\n",
    "    print (key)"
   ]
  },
  {
   "cell_type": "code",
   "execution_count": 20,
   "id": "6f25b068-a709-4dcc-a6d9-7bc6b4792338",
   "metadata": {},
   "outputs": [
    {
     "name": "stdout",
     "output_type": "stream",
     "text": [
      "Ключ: {key}, значение: {value}\n",
      "Ключ: {key}, значение: {value}\n",
      "Ключ: {key}, значение: {value}\n",
      "Ключ: {key}, значение: {value}\n",
      "Ключ: {key}, значение: {value}\n"
     ]
    }
   ],
   "source": [
    "for key, value in steel.items():\n",
    "    print (f'Ключ: {key}, значение: {value}')"
   ]
  },
  {
   "cell_type": "code",
   "execution_count": 19,
   "id": "865521bb-5848-4800-b1d9-caa32f381e1f",
   "metadata": {},
   "outputs": [
    {
     "name": "stdout",
     "output_type": "stream",
     "text": [
      "dict_items([('марка', '08кп'), ('предел текучести', 193.0), ('предел прочности', 316.0), ('равномерное удлинение', 20.4), ('температура испытаний', 20)])\n"
     ]
    }
   ],
   "source": [
    "print (steel.items())"
   ]
  },
  {
   "cell_type": "code",
   "execution_count": 25,
   "id": "e2cfa7c6-caea-49e7-8b00-66787dc5a7f1",
   "metadata": {},
   "outputs": [
    {
     "name": "stdout",
     "output_type": "stream",
     "text": [
      "['марка', 'предел текучести', 'предел прочности', 'равномерное удлинение', 'модуль Юнга']\n",
      "['08кп', [193.0, 198.0], 316.0, 20.434, 221900]\n",
      "[('марка', '08кп'), ('предел текучести', [193.0, 198.0]), ('предел прочности', 316.0), ('равномерное удлинение', 20.434), ('модуль Юнга', 221900)]\n"
     ]
    }
   ],
   "source": [
    "list_of_keys = list(steel.keys())\n",
    "list_of_values = list (steel.values())\n",
    "list_of_couples = list (steel.items())\n",
    "print (list_of_keys)\n",
    "print (list_of_values)\n",
    "print (list_of_couples)"
   ]
  },
  {
   "cell_type": "code",
   "execution_count": 31,
   "id": "4d0250c5-6351-4d29-aa3b-fed1b30745a8",
   "metadata": {},
   "outputs": [
    {
     "name": "stdout",
     "output_type": "stream",
     "text": [
      "316.0\n",
      "210000\n"
     ]
    }
   ],
   "source": [
    "tensile_strength = steel.get('предел прочности', 300)\n",
    "Youngs_modulus = steel.get ('модуль Юнга', 210000) \n",
    "\n",
    "print (tensile_strength)\n",
    "print (Youngs_modulus)"
   ]
  },
  {
   "cell_type": "code",
   "execution_count": 33,
   "id": "7c3b9e4b-bd1a-415a-a2f7-e45fa32905cb",
   "metadata": {},
   "outputs": [
    {
     "name": "stdout",
     "output_type": "stream",
     "text": [
      "Прочность 40Х: 825 МПа\n"
     ]
    }
   ],
   "source": [
    "materials = {\n",
    "    'Ст3сп': {\n",
    "        'марка': 'Ст3сп',\n",
    "        'прочность': 420,\n",
    "        'текучесть': 245,\n",
    "        'удлинение': 27\n",
    "    },\n",
    "    '40Х': {\n",
    "        'марка': '40Х',\n",
    "        'прочность': 825,\n",
    "        'текучесть': 650,\n",
    "        'удлинение': 14\n",
    "    },\n",
    "    '20ГЛ': {\n",
    "        'марка': '20ГЛ',\n",
    "        'прочность': 500,\n",
    "        'текучесть': 280,\n",
    "        'удлинение': 18\n",
    "    },\n",
    "    '30ХГСА': {\n",
    "        'марка': '30ХГСА',\n",
    "        'прочность': 950,\n",
    "        'текучесть': 785,\n",
    "        'удлинение': 13\n",
    "    },\n",
    "    'Ст45': {\n",
    "        'марка': 'Ст45',\n",
    "        'прочность': 610,\n",
    "        'текучесть': 360,\n",
    "        'удлинение': 16\n",
    "    },\n",
    "    '08кп': {\n",
    "        'марка': '08кп',\n",
    "        'прочность': 330,\n",
    "        'текучесть': 195,\n",
    "        'удлинение': 33\n",
    "    }\n",
    "}\n",
    "print('Прочность 40Х:', materials['40Х']['прочность'], 'МПа')"
   ]
  },
  {
   "cell_type": "code",
   "execution_count": 37,
   "id": "f1ff619c-5ea6-42be-9930-127fccc3a972",
   "metadata": {},
   "outputs": [
    {
     "name": "stdout",
     "output_type": "stream",
     "text": [
      "{'Cn45', '40Х', '08Ю', 'ХВГ', '30ХГСА'}\n"
     ]
    }
   ],
   "source": [
    "set_of_materials = {'40Х', 'Cn45', 'ХВГ', '30ХГСА', '08Ю', }\n",
    "print (set_of_materials)"
   ]
  },
  {
   "cell_type": "code",
   "execution_count": 40,
   "id": "9ee70a59-61ae-46da-999c-cf8b60d726c6",
   "metadata": {},
   "outputs": [
    {
     "name": "stdout",
     "output_type": "stream",
     "text": [
      "{'Ст3', 'Cn45', '40Х', '08КП', '08Ю', 'Ст35', 'ХВГ', '30ХГСА'}\n"
     ]
    }
   ],
   "source": [
    "set_of_materials.add('08КП')\n",
    "set_of_materials.update (['Ст35', 'Ст3'])\n",
    "print (set_of_materials)"
   ]
  },
  {
   "cell_type": "code",
   "execution_count": 42,
   "id": "32af7a2e-ae28-43a3-b613-6fdb0e374be1",
   "metadata": {},
   "outputs": [
    {
     "name": "stdout",
     "output_type": "stream",
     "text": [
      "{'Ст3', 'Cn45', '40Х', '08КП', '08Ю', 'Ст35', 'ХВГ', '30ХГСА'}\n"
     ]
    }
   ],
   "source": [
    "set_of_materials.add('08КП')\n",
    "print (set_of_materials)"
   ]
  },
  {
   "cell_type": "code",
   "execution_count": 46,
   "id": "a23feb75-13da-45a2-87d6-e5a27b1cd6b2",
   "metadata": {},
   "outputs": [
    {
     "name": "stdout",
     "output_type": "stream",
     "text": [
      "Ст3\n"
     ]
    }
   ],
   "source": [
    "set_of_materials_2_list = list(set_of_materials)\n",
    "print (set_of_materials_2_list[0])"
   ]
  },
  {
   "cell_type": "code",
   "execution_count": 47,
   "id": "7da4159f-046f-4f00-8584-af9f39a43f97",
   "metadata": {},
   "outputs": [],
   "source": [
    "set_of_materials_02 = {'Вт6', 'Вт22', 'Ад0', '40Х', '08КП'}"
   ]
  },
  {
   "cell_type": "code",
   "execution_count": 50,
   "id": "88074df3-ae05-4f54-b8f0-5925d0898d46",
   "metadata": {},
   "outputs": [
    {
     "name": "stdout",
     "output_type": "stream",
     "text": [
      "{'40Х', '08КП'}\n",
      "{'Cn45', 'Ст35', 'ХВГ', '30ХГСА', 'Ст3', '08Ю'}\n",
      "{'Cn45', 'Ст35', 'ХВГ', '30ХГСА', 'Ад0', 'Ст3', 'Вт6', '08Ю', 'Вт22'}\n"
     ]
    }
   ],
   "source": [
    "print (set_of_materials.intersection(set_of_materials_02))\n",
    "print (set_of_materials.difference(set_of_materials_02))\n",
    "print (set_of_materials.symmetric_difference(set_of_materials_02))\n"
   ]
  },
  {
   "cell_type": "code",
   "execution_count": 53,
   "id": "4b110273-a935-4bb8-932c-462d24a69150",
   "metadata": {},
   "outputs": [
    {
     "name": "stdout",
     "output_type": "stream",
     "text": [
      "40Х\n"
     ]
    }
   ],
   "source": [
    "tuple_of_materials = ('Вт6', 'Вт22', 'Ад0', '40Х', '08КП')\n",
    "print (tuple_of_materials[-2])"
   ]
  },
  {
   "cell_type": "code",
   "execution_count": 54,
   "id": "cb337ab3-b92c-4d51-ae9c-5bf6083a192f",
   "metadata": {},
   "outputs": [
    {
     "ename": "TypeError",
     "evalue": "'tuple' object does not support item assignment",
     "output_type": "error",
     "traceback": [
      "\u001b[0;31m---------------------------------------------------------------------------\u001b[0m",
      "\u001b[0;31mTypeError\u001b[0m                                 Traceback (most recent call last)",
      "Cell \u001b[0;32mIn[54], line 1\u001b[0m\n\u001b[0;32m----> 1\u001b[0m tuple_of_materials[\u001b[38;5;241m-\u001b[39m\u001b[38;5;241m2\u001b[39m] \u001b[38;5;241m=\u001b[39m \u001b[38;5;124m'\u001b[39m\u001b[38;5;124m65Г2С\u001b[39m\u001b[38;5;124m'\u001b[39m\n",
      "\u001b[0;31mTypeError\u001b[0m: 'tuple' object does not support item assignment"
     ]
    }
   ],
   "source": [
    "tuple_of_materials[-2] = '65Г2С'"
   ]
  },
  {
   "cell_type": "code",
   "execution_count": null,
   "id": "d3a9a606-ac5d-42e0-9a87-d22f3e3670d9",
   "metadata": {},
   "outputs": [],
   "source": []
  },
  {
   "cell_type": "code",
   "execution_count": null,
   "id": "5b961f01-3657-44fe-9a65-c96b7cb88003",
   "metadata": {},
   "outputs": [],
   "source": [
    "\n",
    "\n",
    "\n",
    "\n",
    "\n",
    "\n",
    "\n",
    "\n",
    "\n",
    "\n",
    "\n",
    "\n",
    "\n",
    "\n",
    "\n",
    "\n",
    "\n",
    "\n",
    "\n",
    "\n",
    "\n",
    "\n",
    "\n",
    "\n",
    "\n",
    "\n",
    "\n",
    "\n",
    "\n",
    "\n",
    "\n",
    "\n",
    "\n"
   ]
  }
 ],
 "metadata": {
  "kernelspec": {
   "display_name": "Python 3 (ipykernel)",
   "language": "python",
   "name": "python3"
  },
  "language_info": {
   "codemirror_mode": {
    "name": "ipython",
    "version": 3
   },
   "file_extension": ".py",
   "mimetype": "text/x-python",
   "name": "python",
   "nbconvert_exporter": "python",
   "pygments_lexer": "ipython3",
   "version": "3.12.7"
  }
 },
 "nbformat": 4,
 "nbformat_minor": 5
}
